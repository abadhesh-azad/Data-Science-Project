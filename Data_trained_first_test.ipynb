{
 "cells": [
  {
   "cell_type": "code",
   "execution_count": 13,
   "id": "6f8df092",
   "metadata": {},
   "outputs": [
    {
     "name": "stdout",
     "output_type": "stream",
     "text": [
      "56\n"
     ]
    }
   ],
   "source": [
    "# Question 1.\n",
    "sampleDict={\"Country\":{\n",
    "    \"Indian Cricket Team\":{\n",
    "        \"name\":[\"Rohit\",\"Virat\",\"Rahul\",\"\"],\n",
    "        \"runs\":{\n",
    "            \"Rohit\":47,\n",
    "            \"Virat\":56,\n",
    "            \"Rahul\":66\n",
    "        }\n",
    "    }\n",
    "}}\n",
    "print(sampleDict[\"Country\"][\"Indian Cricket Team\"][\"runs\"][\"Virat\"])"
   ]
  },
  {
   "cell_type": "code",
   "execution_count": 4,
   "id": "01e46596",
   "metadata": {
    "scrolled": true
   },
   "outputs": [
    {
     "name": "stdout",
     "output_type": "stream",
     "text": [
      "yes\n"
     ]
    }
   ],
   "source": [
    "# 2.\n",
    "sample_dict={'a':100,'b':2800,'c':300}\n",
    "l=sample_dict.values()\n",
    "if 2700 in l:\n",
    "    print(\"yes\")\n",
    "else:\n",
    "    print(\"No\")"
   ]
  },
  {
   "cell_type": "code",
   "execution_count": 6,
   "id": "3ff93663",
   "metadata": {},
   "outputs": [
    {
     "name": "stdout",
     "output_type": "stream",
     "text": [
      "[ 1  4  9 16 25 36 49]\n"
     ]
    }
   ],
   "source": [
    "import numpy as np\n",
    "numbers=[1,2,3,4,5,6,7]\n",
    "arr=np.array(numbers)\n",
    "res=arr**2\n",
    "print(res)\n",
    "\n"
   ]
  },
  {
   "cell_type": "code",
   "execution_count": 7,
   "id": "e4c7b837",
   "metadata": {},
   "outputs": [
    {
     "name": "stdout",
     "output_type": "stream",
     "text": [
      "{'MSD', 'Kapil', 'Sehwag', 'Surya', 'Siraj', 'Sachin'}\n"
     ]
    }
   ],
   "source": [
    "# Question 3 \n",
    "sample_set={\"Surya\",\"Kapil\",\"MSD\"}\n",
    "sample_list=[\"Sachin\",\"Siraj\",\"Sehwag\"]\n",
    "for x in sample_list:\n",
    "    sample_set.add(x)\n",
    "print(sample_set)"
   ]
  }
 ],
 "metadata": {
  "kernelspec": {
   "display_name": "Python 3 (ipykernel)",
   "language": "python",
   "name": "python3"
  },
  "language_info": {
   "codemirror_mode": {
    "name": "ipython",
    "version": 3
   },
   "file_extension": ".py",
   "mimetype": "text/x-python",
   "name": "python",
   "nbconvert_exporter": "python",
   "pygments_lexer": "ipython3",
   "version": "3.9.13"
  }
 },
 "nbformat": 4,
 "nbformat_minor": 5
}
